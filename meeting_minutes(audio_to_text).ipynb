{
  "nbformat": 4,
  "nbformat_minor": 0,
  "metadata": {
    "colab": {
      "provenance": [],
      "gpuType": "T4",
      "authorship_tag": "ABX9TyP9TwFiPc3fEQDyxrqZP0Uy",
      "include_colab_link": true
    },
    "kernelspec": {
      "name": "python3",
      "display_name": "Python 3"
    },
    "language_info": {
      "name": "python"
    },
    "accelerator": "GPU"
  },
  "cells": [
    {
      "cell_type": "markdown",
      "metadata": {
        "id": "view-in-github",
        "colab_type": "text"
      },
      "source": [
        "<a href=\"https://colab.research.google.com/github/Soroushav/llm_basics/blob/main/meeting_minutes(audio_to_text).ipynb\" target=\"_parent\"><img src=\"https://colab.research.google.com/assets/colab-badge.svg\" alt=\"Open In Colab\"/></a>"
      ]
    },
    {
      "cell_type": "code",
      "source": [
        "!pip install bitsandbytes"
      ],
      "metadata": {
        "collapsed": true,
        "id": "_z3n_pvJpbvA"
      },
      "execution_count": null,
      "outputs": []
    },
    {
      "cell_type": "code",
      "execution_count": null,
      "metadata": {
        "id": "-cGrEMz-jWpx"
      },
      "outputs": [],
      "source": [
        "import os\n",
        "import requests\n",
        "from IPython.display import Markdown, display, update_display\n",
        "from openai import OpenAI\n",
        "from google.colab import drive, userdata\n",
        "from huggingface_hub import login\n",
        "from transformers import AutoTokenizer, AutoModelForCausalLM, TextStreamer, BitsAndBytesConfig\n",
        "import torch"
      ]
    },
    {
      "cell_type": "code",
      "source": [
        "LLAMA = \"meta-llama/Llama-3.1-8B-Instruct\""
      ],
      "metadata": {
        "id": "E2a9YPTQkxqc"
      },
      "execution_count": null,
      "outputs": []
    },
    {
      "cell_type": "code",
      "source": [
        "drive.mount('/content/drive')\n",
        "audio_file = '/content/drive/MyDrive/llm_basics/denver_extract.mp3'"
      ],
      "metadata": {
        "id": "OHaVr39Rkz7w"
      },
      "execution_count": null,
      "outputs": []
    },
    {
      "cell_type": "code",
      "source": [
        "openai_api_key = userdata.get('OPENAI_API_KEY')\n",
        "openai = OpenAI(api_key=openai_api_key)"
      ],
      "metadata": {
        "id": "tRbhKzExl43J"
      },
      "execution_count": null,
      "outputs": []
    },
    {
      "cell_type": "code",
      "source": [
        "hf_token = userdata.get(\"HF_TOKEN\")\n",
        "login(hf_token, add_to_git_credential=True)"
      ],
      "metadata": {
        "id": "6ac01dysnIwd"
      },
      "execution_count": null,
      "outputs": []
    },
    {
      "cell_type": "code",
      "source": [
        "audio_file = open(audio_file, \"rb\")"
      ],
      "metadata": {
        "id": "pMiMOskJnX6Y"
      },
      "execution_count": null,
      "outputs": []
    },
    {
      "cell_type": "code",
      "source": [
        "AUDIO_MODEL = \"gpt-4o-mini-transcribe\"\n",
        "transcription = openai.audio.transcriptions.create(model=AUDIO_MODEL, file=audio_file, response_format=\"text\")\n",
        "print(transcription)"
      ],
      "metadata": {
        "id": "s-Jggph_ndQA"
      },
      "execution_count": null,
      "outputs": []
    },
    {
      "cell_type": "code",
      "source": [
        "display(Markdown(transcription))"
      ],
      "metadata": {
        "collapsed": true,
        "id": "tgTavFkioCJ1"
      },
      "execution_count": null,
      "outputs": []
    },
    {
      "cell_type": "code",
      "source": [
        "system_message = \"\"\"\n",
        "You produce minutes of meetings from transcripts, with summary, key discussion points,\n",
        "takeaways and action items with owners, in markdown format without code blocks.\n",
        "\"\"\"\n",
        "\n",
        "user_prompt = f\"\"\"\n",
        "Below is an extract transcript of a Denver council meeting.\n",
        "Please write minutes in markdown without code blocks, including:\n",
        "- a summary with attendees, location and date\n",
        "- discussion points\n",
        "- takeaways\n",
        "- action items with owners\n",
        "\n",
        "Transcription:\n",
        "{transcription}\n",
        "\"\"\"\n",
        "\n",
        "messages = [\n",
        "    {\"role\": \"system\", \"content\": system_message},\n",
        "    {\"role\": \"user\", \"content\": user_prompt}\n",
        "  ]"
      ],
      "metadata": {
        "id": "nrlvrySSoWii"
      },
      "execution_count": null,
      "outputs": []
    },
    {
      "cell_type": "code",
      "source": [
        "quant_config = BitsAndBytesConfig(\n",
        "    load_in_4bit=True,\n",
        "    bnb_4bit_use_double_quant=True,\n",
        "    bnb_4bit_quant_type=\"nf4\",\n",
        "    bnb_4bit_compute_dtype=torch.bfloat16\n",
        ")"
      ],
      "metadata": {
        "id": "IXSQjkJloin4"
      },
      "execution_count": null,
      "outputs": []
    },
    {
      "cell_type": "code",
      "source": [
        "cache_dir= \"/content/drive/MyDrive/llm_basics/hf_cache\""
      ],
      "metadata": {
        "id": "YCsUkFNiGTE8"
      },
      "execution_count": null,
      "outputs": []
    },
    {
      "cell_type": "code",
      "source": [
        "tokenizer = AutoTokenizer.from_pretrained(LLAMA, cache_dir=cache_dir)\n",
        "tokenizer.pad_token = tokenizer.eos_token\n",
        "inputs = tokenizer.apply_chat_template(messages, return_tensors=\"pt\").to(\"cuda\")\n",
        "streamer = TextStreamer(tokenizer)\n",
        "\n",
        "model = AutoModelForCausalLM.from_pretrained(LLAMA, cache_dir=cache_dir, quantization_config=quant_config, device_map=\"auto\")\n",
        "model.generate(inputs, max_new_tokens=2000, streamer=streamer)\n"
      ],
      "metadata": {
        "id": "0tqsruZQoqrI"
      },
      "execution_count": null,
      "outputs": []
    },
    {
      "cell_type": "code",
      "source": [],
      "metadata": {
        "id": "-SGUgqoYqXQU"
      },
      "execution_count": null,
      "outputs": []
    }
  ]
}