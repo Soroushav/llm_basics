{
  "nbformat": 4,
  "nbformat_minor": 0,
  "metadata": {
    "colab": {
      "provenance": [],
      "gpuType": "T4",
      "authorship_tag": "ABX9TyOuue12VR2QkWtIpzeUYlu5",
      "include_colab_link": true
    },
    "kernelspec": {
      "name": "python3",
      "display_name": "Python 3"
    },
    "language_info": {
      "name": "python"
    },
    "accelerator": "GPU"
  },
  "cells": [
    {
      "cell_type": "markdown",
      "metadata": {
        "id": "view-in-github",
        "colab_type": "text"
      },
      "source": [
        "<a href=\"https://colab.research.google.com/github/Soroushav/llm_basics/blob/main/modles.ipynb\" target=\"_parent\"><img src=\"https://colab.research.google.com/assets/colab-badge.svg\" alt=\"Open In Colab\"/></a>"
      ]
    },
    {
      "cell_type": "code",
      "execution_count": null,
      "metadata": {
        "id": "t-7CEcO6A5Fq"
      },
      "outputs": [],
      "source": [
        "!pip install -q --upgrade bitsandbytes accelerate"
      ]
    },
    {
      "cell_type": "code",
      "source": [
        "from google.colab import userdata\n",
        "from huggingface_hub import login\n",
        "from transformers import AutoTokenizer, BitsAndBytesConfig, AutoModelForCausalLM, TextStreamer\n",
        "import torch\n",
        "import gc"
      ],
      "metadata": {
        "id": "ECHCZ_-UA7SO"
      },
      "execution_count": null,
      "outputs": []
    },
    {
      "cell_type": "code",
      "source": [
        "!git config --global credential.helper store"
      ],
      "metadata": {
        "id": "PCdTuX4LCjPY"
      },
      "execution_count": null,
      "outputs": []
    },
    {
      "cell_type": "code",
      "source": [
        "from huggingface_hub import notebook_login\n",
        "notebook_login()"
      ],
      "metadata": {
        "id": "Kbh3D-xlCmVj"
      },
      "execution_count": null,
      "outputs": []
    },
    {
      "cell_type": "code",
      "source": [
        "hf_token = userdata.get('HF_TOKEN')\n",
        "login(hf_token, add_to_git_credential=True)"
      ],
      "metadata": {
        "id": "JXJ7XFojBTNA"
      },
      "execution_count": null,
      "outputs": []
    },
    {
      "cell_type": "code",
      "source": [
        "LLAMA = \"meta-llama/Llama-3.1-8B-Instruct\"\n",
        "PHI = \"microsoft/Phi-4-mini-instruct\"\n",
        "GEMMA = \"google/gemma-3-270m-it\"\n",
        "QWEN = \"Qwen/Qwen3-4B-Instruct-2507\"\n",
        "DEEPSEEK = \"deepseek-ai/DeepSeek-R1-Distill-Qwen-1.5B\""
      ],
      "metadata": {
        "id": "GkYASaT9BpZL"
      },
      "execution_count": null,
      "outputs": []
    },
    {
      "cell_type": "code",
      "source": [
        "messages = [\n",
        "    {\"role\": \"system\", \"content\": \"Tell a funny joke for a group of data scientists\"}\n",
        "]"
      ],
      "metadata": {
        "id": "gspxaU_OCugL"
      },
      "execution_count": null,
      "outputs": []
    },
    {
      "cell_type": "code",
      "source": [
        "quant_config = BitsAndBytesConfig(\n",
        "    load_in_4bit=True,\n",
        "    bnb_4bit_use_double_quant=True,\n",
        "    bnb_4bit_quant_type=\"nf4\",\n",
        "    bnb_4bit_compute_dtype=torch.bfloat16)"
      ],
      "metadata": {
        "id": "y9ufOl5oDVbE"
      },
      "execution_count": null,
      "outputs": []
    },
    {
      "cell_type": "code",
      "source": [
        "tokenizer = AutoTokenizer.from_pretrained(LLAMA)\n",
        "print(tokenizer.pad_token)\n",
        "tokenizer.pad_token = tokenizer.eos_token\n",
        "inputs = tokenizer.apply_chat_template(messages, return_tensors=\"pt\").to(\"cuda\")"
      ],
      "metadata": {
        "id": "aJum2n2rDqS7"
      },
      "execution_count": null,
      "outputs": []
    },
    {
      "cell_type": "code",
      "source": [
        "model = AutoModelForCausalLM.from_pretrained(LLAMA, quantization_config=quant_config, device_map=\"auto\")"
      ],
      "metadata": {
        "id": "DtzrxruZFgvx"
      },
      "execution_count": null,
      "outputs": []
    },
    {
      "cell_type": "code",
      "source": [
        "memory = model.get_memory_footprint() / 1e6\n",
        "print(f\"Memory footprint: {memory} MB\")"
      ],
      "metadata": {
        "id": "W4EIbdu2GdQz"
      },
      "execution_count": null,
      "outputs": []
    },
    {
      "cell_type": "code",
      "source": [
        "outputs = model.generate(inputs, max_new_tokens=50)\n",
        "print(tokenizer.decode(outputs[0]))"
      ],
      "metadata": {
        "id": "U9kEayqOKo6N"
      },
      "execution_count": null,
      "outputs": []
    },
    {
      "cell_type": "code",
      "source": [
        "del model, inputs, outputs, tokenizer\n",
        "gc.collect()\n",
        "torch.cuda.empty_cache()"
      ],
      "metadata": {
        "id": "_CPvSzqeK8Rf"
      },
      "execution_count": null,
      "outputs": []
    },
    {
      "cell_type": "code",
      "source": [
        "def generate(model, message, quant=True, max_new_tokens=50):\n",
        "  tokenizer = AutoTokenizer.from_pretrained(model)\n",
        "  tokenizer.pad_token = tokenizer.eos_token\n",
        "  inputs = tokenizer.apply_chat_template(message, return_tensors=\"pt\", add_generation_prompt=True).to(\"cuda\")\n",
        "  attention_mask = torch.ones_like(inputs, dtype=torch.long, device=\"cuda\")\n",
        "  if quant:\n",
        "    model = AutoModelForCausalLM.from_pretrained(model, quantization_config=quant_config, device_map=\"auto\")\n",
        "  else:\n",
        "    model = AutoModelForCausalLM.from_pretrained(model, device_map=\"auto\")\n",
        "  outputs = model.generate(inputs, attention_mask=attention_mask, max_new_tokens=max_new_tokens)\n",
        "  print(tokenizer.decode(outputs[0]))\n",
        "  del model, inputs, outputs, tokenizer\n",
        "  gc.collect()\n",
        "  torch.cuda.empty_cache()"
      ],
      "metadata": {
        "id": "MXRZKc5cLkjI"
      },
      "execution_count": null,
      "outputs": []
    },
    {
      "cell_type": "code",
      "source": [
        "generate(PHI, messages)"
      ],
      "metadata": {
        "id": "6MWEEjdMNUZa"
      },
      "execution_count": null,
      "outputs": []
    },
    {
      "cell_type": "code",
      "source": [],
      "metadata": {
        "id": "DvLUBH8yTyPY"
      },
      "execution_count": null,
      "outputs": []
    }
  ]
}