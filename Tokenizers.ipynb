{
  "nbformat": 4,
  "nbformat_minor": 0,
  "metadata": {
    "colab": {
      "provenance": [],
      "authorship_tag": "ABX9TyMSE4XlnuWNOXVVvyee/qbx",
      "include_colab_link": true
    },
    "kernelspec": {
      "name": "python3",
      "display_name": "Python 3"
    },
    "language_info": {
      "name": "python"
    }
  },
  "cells": [
    {
      "cell_type": "markdown",
      "metadata": {
        "id": "view-in-github",
        "colab_type": "text"
      },
      "source": [
        "<a href=\"https://colab.research.google.com/github/Soroushav/llm_basics/blob/main/Tokenizers.ipynb\" target=\"_parent\"><img src=\"https://colab.research.google.com/assets/colab-badge.svg\" alt=\"Open In Colab\"/></a>"
      ]
    },
    {
      "cell_type": "code",
      "execution_count": null,
      "metadata": {
        "id": "HZr-JDI327l8"
      },
      "outputs": [],
      "source": [
        "from google.colab import userdata\n",
        "from huggingface_hub import login\n",
        "from transformers import AutoTokenizer"
      ]
    },
    {
      "cell_type": "code",
      "source": [
        "hf_token = userdata.get('HF_TOKEN')\n",
        "login(hf_token, add_to_git_credential=True)"
      ],
      "metadata": {
        "id": "edkf-mpa3Miy"
      },
      "execution_count": null,
      "outputs": []
    },
    {
      "cell_type": "markdown",
      "source": [
        "## Accessing Llama3.1 from Meta"
      ],
      "metadata": {
        "id": "2Pu2vhym3yD1"
      }
    },
    {
      "cell_type": "code",
      "source": [
        "tokenizer = AutoTokenizer.from_pretrained(\"meta-llama/Llama-3.1-8B\", trust_remote_code=True)\n"
      ],
      "metadata": {
        "id": "xnwdN0sf3wB9"
      },
      "execution_count": null,
      "outputs": []
    },
    {
      "cell_type": "code",
      "source": [
        "text = \"I want to practice tokenizers in action and show it to my friends\"\n",
        "tokens = tokenizer.encode(text)\n",
        "tokens"
      ],
      "metadata": {
        "id": "__Ur7Y1U4I5o"
      },
      "execution_count": null,
      "outputs": []
    },
    {
      "cell_type": "code",
      "source": [
        "decode_tokens = tokenizer.decode(tokens)\n",
        "decode_tokens"
      ],
      "metadata": {
        "id": "SHiOE5O94esW"
      },
      "execution_count": null,
      "outputs": []
    },
    {
      "cell_type": "code",
      "source": [
        "tokenizer.batch_decode(tokens)"
      ],
      "metadata": {
        "id": "SghUIOx24p5O"
      },
      "execution_count": null,
      "outputs": []
    },
    {
      "cell_type": "code",
      "source": [
        "len(tokens)"
      ],
      "metadata": {
        "id": "_7xhZ1yc4xti"
      },
      "execution_count": null,
      "outputs": []
    },
    {
      "cell_type": "code",
      "source": [
        "len(tokenizer.vocab)"
      ],
      "metadata": {
        "id": "yg05taFE47cE"
      },
      "execution_count": null,
      "outputs": []
    },
    {
      "cell_type": "markdown",
      "source": [
        "## Instruct variants of models\n",
        "###### Many modles have a variant that has been trained for use in chats"
      ],
      "metadata": {
        "id": "gfYNRlDB55w8"
      }
    },
    {
      "cell_type": "code",
      "source": [
        "tokenizer = AutoTokenizer.from_pretrained(\"meta-llama/Llama-3.1-8B-Instruct\")\n",
        "message = [\n",
        "    {\"role\": \"system\", \"content\": \"You are a helpfull assistant\"},\n",
        "    {\"role\": \"user\", \"content\": \"Tell a funny joke on the subject of weather\"} ]\n",
        "prompt = tokenizer.apply_chat_template(message, tokenize=False, add_generation_prompt=True)\n",
        "print(prompt)"
      ],
      "metadata": {
        "id": "RUHVtMom5EDT"
      },
      "execution_count": null,
      "outputs": []
    },
    {
      "cell_type": "markdown",
      "source": [
        "## Trying new models"
      ],
      "metadata": {
        "id": "RDutFrwm8dMi"
      }
    },
    {
      "cell_type": "code",
      "source": [
        "PHI3_MODEL = \"microsoft/Phi-3-mini-4k-instruct\"\n",
        "QWEN2_MODEL = \"Qwen/Qwen2.5-7B-Instruct\"\n",
        "STARCODER2_MODEL = \"bigcode/starcoder2-3b\""
      ],
      "metadata": {
        "id": "F0ilO0ea8M27"
      },
      "execution_count": null,
      "outputs": []
    },
    {
      "cell_type": "code",
      "source": [
        "tokenizer = AutoTokenizer.from_pretrained(PHI3_MODEL)\n",
        "prompt = tokenizer.apply_chat_template(message, tokenize=False, add_generation_prompt=True)\n",
        "print(prompt)"
      ],
      "metadata": {
        "id": "l-k3v82a8bnl"
      },
      "execution_count": null,
      "outputs": []
    },
    {
      "cell_type": "code",
      "source": [
        "tokenizer = AutoTokenizer.from_pretrained(QWEN2_MODEL)\n",
        "prompt = tokenizer.apply_chat_template(message, tokenize=False, add_generation_prompt=True)\n",
        "print(prompt)"
      ],
      "metadata": {
        "id": "eQqkWWUJ9eHc"
      },
      "execution_count": null,
      "outputs": []
    },
    {
      "cell_type": "code",
      "source": [
        "tokenizer = AutoTokenizer.from_pretrained(STARCODER2_MODEL)\n",
        "code = \"\"\"\n",
        "def add(a, b):\n",
        "    print(a + b)\n",
        "\"\"\"\n",
        "tokens = tokenizer.encode(code)\n",
        "for token in tokens:\n",
        "  print(f\"{token}={tokenizer.decode(token)}\")"
      ],
      "metadata": {
        "id": "e078979L9jlR"
      },
      "execution_count": null,
      "outputs": []
    },
    {
      "cell_type": "code",
      "source": [],
      "metadata": {
        "id": "IuxpBSlk9p7Q"
      },
      "execution_count": null,
      "outputs": []
    }
  ]
}