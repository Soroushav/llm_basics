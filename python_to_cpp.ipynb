{
  "nbformat": 4,
  "nbformat_minor": 0,
  "metadata": {
    "colab": {
      "provenance": [],
      "authorship_tag": "ABX9TyMvV7DL9FdUjxrPNgAX4Bu/",
      "include_colab_link": true
    },
    "kernelspec": {
      "name": "python3",
      "display_name": "Python 3"
    },
    "language_info": {
      "name": "python"
    }
  },
  "cells": [
    {
      "cell_type": "markdown",
      "metadata": {
        "id": "view-in-github",
        "colab_type": "text"
      },
      "source": [
        "<a href=\"https://colab.research.google.com/github/Soroushav/llm_basics/blob/main/python_to_cpp.ipynb\" target=\"_parent\"><img src=\"https://colab.research.google.com/assets/colab-badge.svg\" alt=\"Open In Colab\"/></a>"
      ]
    },
    {
      "cell_type": "code",
      "execution_count": null,
      "metadata": {
        "id": "Gc17WkjESONF"
      },
      "outputs": [],
      "source": [
        "import os\n",
        "import io\n",
        "import sys\n",
        "from dotenv import load_dotenv\n",
        "from openai import OpenAI\n",
        "from IPython.display import Markdown, display, update_display\n",
        "import gradio as gr\n",
        "import subprocess"
      ]
    },
    {
      "cell_type": "code",
      "source": [
        "from google.colab import userdata\n",
        "openai_api_key = userdata.get('OPENAI_API_KEY')\n",
        "openai = OpenAI(api_key=openai_api_key)\n",
        "MODEL_GPT = \"gpt-5-nano\""
      ],
      "metadata": {
        "id": "P60aOgxPS0pt"
      },
      "execution_count": null,
      "outputs": []
    },
    {
      "cell_type": "code",
      "source": [
        "system_message = \"You are an assistant that reimplements Python code in high performance C++ for an M4 Macbook air. \"\n",
        "system_message += \"Respond only with C++ code; use comments sparingly and do not provide any explanation other than occasional comments. \"\n",
        "system_message += \"The C++ response needs to produce an identical output in the fastest possible time.\""
      ],
      "metadata": {
        "id": "fjYpysu5TDMR"
      },
      "execution_count": null,
      "outputs": []
    },
    {
      "cell_type": "code",
      "source": [
        "def get_prompt_for(python):\n",
        "  user_prompt = \"Rewrite this Python code in C++ with the fastest possible implementation that produces identical output in the least time. \"\n",
        "  user_prompt += \"Respond only with C++ code; do not explain your work other than a few comments. \"\n",
        "  user_prompt += \"Pay attention to number types to ensure no int overflows. Remember to #include all necessary C++ packages such as iomanip.\\n\\n\"\n",
        "  user_prompt += python\n",
        "  return user_prompt\n"
      ],
      "metadata": {
        "id": "udd1b9ENTNYh"
      },
      "execution_count": null,
      "outputs": []
    },
    {
      "cell_type": "code",
      "source": [
        "def message_for(python):\n",
        "  return [{\n",
        "      \"role\": \"system\",\n",
        "      \"content\": system_message\n",
        "  }, {\n",
        "      \"role\": \"user\",\n",
        "      \"content\": get_prompt_for(python)\n",
        "  }]"
      ],
      "metadata": {
        "id": "SvheXmQBTm0g"
      },
      "execution_count": null,
      "outputs": []
    },
    {
      "cell_type": "code",
      "source": [
        "def write_output(cpp):\n",
        "  with open(\"output.cpp\", \"w\") as f:\n",
        "    f.write(cpp)"
      ],
      "metadata": {
        "id": "owG_9OSHU1PJ"
      },
      "execution_count": null,
      "outputs": []
    },
    {
      "cell_type": "code",
      "source": [
        "def optimize_for(python):\n",
        "  stream = openai.chat.completions.create(model=MODEL_GPT, messages=message_for(python), stream=True)\n",
        "  result = \"\"\n",
        "  for chunk in stream:\n",
        "    content = chunk.choices[0].delta.content or \"\"\n",
        "    result += content\n",
        "    print(content, end='', flush=True)\n",
        "  write_output(result.replace(\"```\", \"\").replace(\"```cpp\",\"\").replace(\"cpp\", \"\"))"
      ],
      "metadata": {
        "id": "ccngQhHnT5rR"
      },
      "execution_count": null,
      "outputs": []
    },
    {
      "cell_type": "code",
      "source": [
        "pi = \"\"\"\n",
        "import time\n",
        "\n",
        "def calculate(iterations, param1, param2):\n",
        "    result = 1.0\n",
        "    for i in range(1, iterations+1):\n",
        "        j = i * param1 - param2\n",
        "        result -= (1/j)\n",
        "        j = i * param1 + param2\n",
        "        result += (1/j)\n",
        "    return result\n",
        "\n",
        "start_time = time.time()\n",
        "result = calculate(100_000_000, 4, 1) * 4\n",
        "end_time = time.time()\n",
        "\n",
        "print(f\"Result: {result:.12f}\")\n",
        "print(f\"Execution Time: {(end_time - start_time):.6f} seconds\")\n",
        "\"\"\""
      ],
      "metadata": {
        "id": "XL1u_OgqVCNp"
      },
      "execution_count": null,
      "outputs": []
    },
    {
      "cell_type": "code",
      "source": [
        "exec(pi)"
      ],
      "metadata": {
        "id": "WisaVCkHVL-N"
      },
      "execution_count": null,
      "outputs": []
    },
    {
      "cell_type": "code",
      "source": [
        "optimize_for(pi)"
      ],
      "metadata": {
        "id": "6Y9nHUfdVULT"
      },
      "execution_count": null,
      "outputs": []
    },
    {
      "cell_type": "code",
      "source": [
        "python_hard = \"\"\"# Be careful to support large number sizes\n",
        "\n",
        "def lcg(seed, a=1664525, c=1013904223, m=2**32):\n",
        "    value = seed\n",
        "    while True:\n",
        "        value = (a * value + c) % m\n",
        "        yield value\n",
        "\n",
        "def max_subarray_sum(n, seed, min_val, max_val):\n",
        "    lcg_gen = lcg(seed)\n",
        "    random_numbers = [next(lcg_gen) % (max_val - min_val + 1) + min_val for _ in range(n)]\n",
        "    max_sum = float('-inf')\n",
        "    for i in range(n):\n",
        "        current_sum = 0\n",
        "        for j in range(i, n):\n",
        "            current_sum += random_numbers[j]\n",
        "            if current_sum > max_sum:\n",
        "                max_sum = current_sum\n",
        "    return max_sum\n",
        "\n",
        "def total_max_subarray_sum(n, initial_seed, min_val, max_val):\n",
        "    total_sum = 0\n",
        "    lcg_gen = lcg(initial_seed)\n",
        "    for _ in range(20):\n",
        "        seed = next(lcg_gen)\n",
        "        total_sum += max_subarray_sum(n, seed, min_val, max_val)\n",
        "    return total_sum\n",
        "\n",
        "# Parameters\n",
        "n = 10000         # Number of random numbers\n",
        "initial_seed = 42 # Initial seed for the LCG\n",
        "min_val = -10     # Minimum value of random numbers\n",
        "max_val = 10      # Maximum value of random numbers\n",
        "\n",
        "# Timing the function\n",
        "import time\n",
        "start_time = time.time()\n",
        "result = total_max_subarray_sum(n, initial_seed, min_val, max_val)\n",
        "end_time = time.time()\n",
        "\n",
        "print(\"Total Maximum Subarray Sum (20 runs):\", result)\n",
        "print(\"Execution Time: {:.6f} seconds\".format(end_time - start_time))\n",
        "\"\"\""
      ],
      "metadata": {
        "id": "USSpcw9FVdPP"
      },
      "execution_count": null,
      "outputs": []
    },
    {
      "cell_type": "code",
      "source": [
        "exec(python_hard)"
      ],
      "metadata": {
        "id": "ozrip6KkXtWM"
      },
      "execution_count": null,
      "outputs": []
    },
    {
      "cell_type": "code",
      "source": [
        "optimize_for(python_hard)"
      ],
      "metadata": {
        "id": "uop5EV_XXuxN"
      },
      "execution_count": null,
      "outputs": []
    },
    {
      "cell_type": "code",
      "source": [
        "def stream_gpt(python):\n",
        "  stream = openai.chat.completions.create(model=MODEL_GPT, messages=message_for(python), stream=True)\n",
        "  result = \"\"\n",
        "  for chunk in stream:\n",
        "    content = chunk.choices[0].delta.content or \"\"\n",
        "    result += content\n",
        "    yield result"
      ],
      "metadata": {
        "id": "EtJlcdlyZ6Hi"
      },
      "execution_count": null,
      "outputs": []
    },
    {
      "cell_type": "code",
      "source": [
        "with gr.Blocks() as ui:\n",
        "  gr.Markdown(\"Your code generator from python to c++\")\n",
        "  with gr.Row():\n",
        "    python = gr.Textbox(label=\"Python input:\", value=pi, lines=10)\n",
        "    cpp = gr.Textbox(label=\"CPP output:\", lines=10)\n",
        "  with gr.Row():\n",
        "    convert = gr.Button(\"Convert\")\n",
        "  convert.click(fn=stream_gpt, inputs=[python], outputs=[cpp])\n",
        "ui.launch()"
      ],
      "metadata": {
        "id": "tuGRAWd8YD69"
      },
      "execution_count": null,
      "outputs": []
    },
    {
      "cell_type": "code",
      "source": [
        "OLLAMA_BASE_URL = \"https://charmlessly-unbenumbed-matthew.ngrok-free.dev\"\n",
        "ollama = OpenAI(base_url=f\"{OLLAMA_BASE_URL}/v1\", api_key=\"ollama\")"
      ],
      "metadata": {
        "id": "EOzPLXdWZfop"
      },
      "execution_count": null,
      "outputs": []
    },
    {
      "cell_type": "code",
      "source": [
        "def stream_ollama(python):\n",
        "  stream = ollama.chat.completions.create(model=\"llama3.2:latest\", messages=message_for(python), stream=True)\n",
        "  result = \"\"\n",
        "  for chunk in stream:\n",
        "    content = chunk.choices[0].delta.content or \"\"\n",
        "    result += content\n",
        "    yield result\n"
      ],
      "metadata": {
        "id": "B4vQTIvFb-SO"
      },
      "execution_count": null,
      "outputs": []
    },
    {
      "cell_type": "code",
      "source": [
        "def generate(python, model):\n",
        "  if model == \"GPT\":\n",
        "    result = stream_gpt(python)\n",
        "  elif model == \"OLLAMA\":\n",
        "    result = stream_ollama(python)\n",
        "  for streamed_so_far in result:\n",
        "    yield streamed_so_far"
      ],
      "metadata": {
        "id": "u2V5XIMWhEGp"
      },
      "execution_count": null,
      "outputs": []
    },
    {
      "cell_type": "code",
      "source": [
        "with gr.Blocks() as ui:\n",
        "  gr.Markdown(\"Your code generator from python to c++\")\n",
        "  with gr.Row():\n",
        "    python = gr.Textbox(label=\"Python input:\", value=pi, lines=10)\n",
        "    cpp = gr.Textbox(label=\"CPP output:\", lines=10)\n",
        "  with gr.Row():\n",
        "    model = gr.Dropdown(label=\"Model\", choices=[\"GPT\", \"OLLAMA\"], value=\"GPT\")\n",
        "    convert = gr.Button(\"Convert\")\n",
        "  convert.click(fn=generate, inputs=[python, model], outputs=[cpp])\n",
        "ui.launch()"
      ],
      "metadata": {
        "id": "wz6L6RlUdEKQ"
      },
      "execution_count": null,
      "outputs": []
    },
    {
      "cell_type": "code",
      "source": [],
      "metadata": {
        "id": "T_KqzTzxhlGo"
      },
      "execution_count": null,
      "outputs": []
    }
  ]
}