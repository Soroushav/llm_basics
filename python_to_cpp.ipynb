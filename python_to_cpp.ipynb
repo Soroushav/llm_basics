{
  "nbformat": 4,
  "nbformat_minor": 0,
  "metadata": {
    "colab": {
      "provenance": [],
      "gpuType": "T4",
      "authorship_tag": "ABX9TyMLEUdTT8/crCPKuGGntlHq",
      "include_colab_link": true
    },
    "kernelspec": {
      "name": "python3",
      "display_name": "Python 3"
    },
    "language_info": {
      "name": "python"
    },
    "accelerator": "GPU"
  },
  "cells": [
    {
      "cell_type": "markdown",
      "metadata": {
        "id": "view-in-github",
        "colab_type": "text"
      },
      "source": [
        "<a href=\"https://colab.research.google.com/github/Soroushav/llm_basics/blob/main/python_to_cpp.ipynb\" target=\"_parent\"><img src=\"https://colab.research.google.com/assets/colab-badge.svg\" alt=\"Open In Colab\"/></a>"
      ]
    },
    {
      "cell_type": "code",
      "execution_count": 1,
      "metadata": {
        "id": "Gc17WkjESONF"
      },
      "outputs": [],
      "source": [
        "import os\n",
        "import io\n",
        "import sys\n",
        "from dotenv import load_dotenv\n",
        "from openai import OpenAI\n",
        "from IPython.display import Markdown, display, update_display\n",
        "import gradio as gr\n",
        "import subprocess"
      ]
    },
    {
      "cell_type": "code",
      "source": [
        "from google.colab import userdata\n",
        "openai_api_key = userdata.get('OPENAI_API_KEY')\n",
        "openai = OpenAI(api_key=openai_api_key)\n",
        "MODEL_GPT = \"gpt-5-nano\""
      ],
      "metadata": {
        "id": "P60aOgxPS0pt"
      },
      "execution_count": 2,
      "outputs": []
    },
    {
      "cell_type": "code",
      "source": [
        "system_message = \"You are an assistant that reimplements Python code in high performance C++ for an M4 Macbook air. \"\n",
        "system_message += \"Respond only with C++ code; use comments sparingly and do not provide any explanation other than occasional comments. \"\n",
        "system_message += \"The C++ response needs to produce an identical output in the fastest possible time.\""
      ],
      "metadata": {
        "id": "fjYpysu5TDMR"
      },
      "execution_count": 3,
      "outputs": []
    },
    {
      "cell_type": "code",
      "source": [
        "def get_prompt_for(python):\n",
        "  user_prompt = \"Rewrite this Python code in C++ with the fastest possible implementation that produces identical output in the least time. \"\n",
        "  user_prompt += \"Respond only with C++ code; do not explain your work other than a few comments. \"\n",
        "  user_prompt += \"Pay attention to number types to ensure no int overflows. Remember to #include all necessary C++ packages such as iomanip.\\n\\n\"\n",
        "  user_prompt += python\n",
        "  return user_prompt\n"
      ],
      "metadata": {
        "id": "udd1b9ENTNYh"
      },
      "execution_count": 4,
      "outputs": []
    },
    {
      "cell_type": "code",
      "source": [
        "def message_for(python):\n",
        "  return [{\n",
        "      \"role\": \"system\",\n",
        "      \"content\": system_message\n",
        "  }, {\n",
        "      \"role\": \"user\",\n",
        "      \"content\": get_prompt_for(python)\n",
        "  }]"
      ],
      "metadata": {
        "id": "SvheXmQBTm0g"
      },
      "execution_count": 5,
      "outputs": []
    },
    {
      "cell_type": "code",
      "source": [
        "def write_output(cpp):\n",
        "  with open(\"output.cpp\", \"w\") as f:\n",
        "    f.write(cpp)"
      ],
      "metadata": {
        "id": "owG_9OSHU1PJ"
      },
      "execution_count": 6,
      "outputs": []
    },
    {
      "cell_type": "code",
      "source": [
        "def optimize_for(python):\n",
        "  stream = openai.chat.completions.create(model=MODEL_GPT, messages=message_for(python), stream=True)\n",
        "  result = \"\"\n",
        "  for chunk in stream:\n",
        "    content = chunk.choices[0].delta.content or \"\"\n",
        "    result += content\n",
        "    print(content, end='', flush=True)\n",
        "  write_output(result.replace(\"```\", \"\").replace(\"```cpp\",\"\").replace(\"cpp\", \"\"))"
      ],
      "metadata": {
        "id": "ccngQhHnT5rR"
      },
      "execution_count": 7,
      "outputs": []
    },
    {
      "cell_type": "code",
      "source": [
        "pi = \"\"\"\n",
        "import time\n",
        "\n",
        "def calculate(iterations, param1, param2):\n",
        "    result = 1.0\n",
        "    for i in range(1, iterations+1):\n",
        "        j = i * param1 - param2\n",
        "        result -= (1/j)\n",
        "        j = i * param1 + param2\n",
        "        result += (1/j)\n",
        "    return result\n",
        "\n",
        "start_time = time.time()\n",
        "result = calculate(100_000_000, 4, 1) * 4\n",
        "end_time = time.time()\n",
        "\n",
        "print(f\"Result: {result:.12f}\")\n",
        "print(f\"Execution Time: {(end_time - start_time):.6f} seconds\")\n",
        "\"\"\""
      ],
      "metadata": {
        "id": "XL1u_OgqVCNp"
      },
      "execution_count": 8,
      "outputs": []
    },
    {
      "cell_type": "code",
      "source": [
        "exec(pi)"
      ],
      "metadata": {
        "id": "WisaVCkHVL-N",
        "colab": {
          "base_uri": "https://localhost:8080/"
        },
        "outputId": "d0836a02-23ba-4270-8f65-427ead972549"
      },
      "execution_count": null,
      "outputs": [
        {
          "output_type": "stream",
          "name": "stdout",
          "text": [
            "Result: 3.141592658589\n",
            "Execution Time: 17.917721 seconds\n"
          ]
        }
      ]
    },
    {
      "cell_type": "code",
      "source": [
        "optimize_for(pi)"
      ],
      "metadata": {
        "id": "6Y9nHUfdVULT",
        "colab": {
          "base_uri": "https://localhost:8080/"
        },
        "outputId": "3ef2a360-cd10-478e-bfc5-7cda62bddaae"
      },
      "execution_count": null,
      "outputs": [
        {
          "output_type": "stream",
          "name": "stdout",
          "text": [
            "#include <iostream>\n",
            "#include <iomanip>\n",
            "#include <chrono>\n",
            "\n",
            "int main() {\n",
            "    const long long iterations = 100000000LL;\n",
            "    const double param1 = 4.0;\n",
            "    const double param2 = 1.0;\n",
            "\n",
            "    double result = 1.0;\n",
            "\n",
            "    auto t0 = std::chrono::high_resolution_clock::now();\n",
            "\n",
            "    // Use incremental product to avoid repeated multiplications\n",
            "    double prod = param1; // equals i * param1 for i = 1\n",
            "    for (long long i = 1; i <= iterations; ++i) {\n",
            "        double j = prod - param2;\n",
            "        result -= 1.0 / j;\n",
            "\n",
            "        j = prod + param2;\n",
            "        result += 1.0 / j;\n",
            "\n",
            "        prod += param1; // prepare for next i\n",
            "    }\n",
            "\n",
            "    result *= 4.0;\n",
            "\n",
            "    auto t1 = std::chrono::high_resolution_clock::now();\n",
            "    std::cout.setf(std::ios::fixed);\n",
            "    std::cout << std::setprecision(12);\n",
            "    std::cout << \"Result: \" << result << \"\\n\";\n",
            "    std::cout << \"Execution Time: \"\n",
            "              << std::setprecision(6)\n",
            "              << std::chrono::duration_cast<std::chrono::duration<double>>(t1 - t0).count()\n",
            "              << \" seconds\\n\";\n",
            "    return 0;\n",
            "}"
          ]
        }
      ]
    },
    {
      "cell_type": "code",
      "source": [
        "python_hard = \"\"\"# Be careful to support large number sizes\n",
        "\n",
        "def lcg(seed, a=1664525, c=1013904223, m=2**32):\n",
        "    value = seed\n",
        "    while True:\n",
        "        value = (a * value + c) % m\n",
        "        yield value\n",
        "\n",
        "def max_subarray_sum(n, seed, min_val, max_val):\n",
        "    lcg_gen = lcg(seed)\n",
        "    random_numbers = [next(lcg_gen) % (max_val - min_val + 1) + min_val for _ in range(n)]\n",
        "    max_sum = float('-inf')\n",
        "    for i in range(n):\n",
        "        current_sum = 0\n",
        "        for j in range(i, n):\n",
        "            current_sum += random_numbers[j]\n",
        "            if current_sum > max_sum:\n",
        "                max_sum = current_sum\n",
        "    return max_sum\n",
        "\n",
        "def total_max_subarray_sum(n, initial_seed, min_val, max_val):\n",
        "    total_sum = 0\n",
        "    lcg_gen = lcg(initial_seed)\n",
        "    for _ in range(20):\n",
        "        seed = next(lcg_gen)\n",
        "        total_sum += max_subarray_sum(n, seed, min_val, max_val)\n",
        "    return total_sum\n",
        "\n",
        "# Parameters\n",
        "n = 10000         # Number of random numbers\n",
        "initial_seed = 42 # Initial seed for the LCG\n",
        "min_val = -10     # Minimum value of random numbers\n",
        "max_val = 10      # Maximum value of random numbers\n",
        "\n",
        "# Timing the function\n",
        "import time\n",
        "start_time = time.time()\n",
        "result = total_max_subarray_sum(n, initial_seed, min_val, max_val)\n",
        "end_time = time.time()\n",
        "\n",
        "print(\"Total Maximum Subarray Sum (20 runs):\", result)\n",
        "print(\"Execution Time: {:.6f} seconds\".format(end_time - start_time))\n",
        "\"\"\""
      ],
      "metadata": {
        "id": "USSpcw9FVdPP"
      },
      "execution_count": 9,
      "outputs": []
    },
    {
      "cell_type": "code",
      "source": [
        "exec(python_hard)"
      ],
      "metadata": {
        "id": "ozrip6KkXtWM",
        "colab": {
          "base_uri": "https://localhost:8080/"
        },
        "outputId": "b0240309-4432-4654-b60e-e36fd548ba74"
      },
      "execution_count": null,
      "outputs": [
        {
          "output_type": "stream",
          "name": "stdout",
          "text": [
            "Total Maximum Subarray Sum (20 runs): 10980\n",
            "Execution Time: 68.234475 seconds\n"
          ]
        }
      ]
    },
    {
      "cell_type": "code",
      "source": [
        "optimize_for(python_hard)"
      ],
      "metadata": {
        "id": "uop5EV_XXuxN",
        "colab": {
          "base_uri": "https://localhost:8080/"
        },
        "outputId": "0fdca09e-0349-434b-d3ca-09397eae153a"
      },
      "execution_count": null,
      "outputs": [
        {
          "output_type": "stream",
          "name": "stdout",
          "text": [
            "#include <iostream>\n",
            "#include <iomanip>\n",
            "#include <chrono>\n",
            "#include <cstdint>\n",
            "#include <climits>\n",
            "\n",
            "int main() {\n",
            "    const int n = 10000;\n",
            "    const uint32_t initial_seed = 42;\n",
            "    const int min_val = -10;\n",
            "    const int max_val = 10;\n",
            "    const uint64_t A = 1664525ULL;\n",
            "    const uint64_t C = 1013904223ULL;\n",
            "\n",
            "    // Kadane-based computation over on-the-fly generated sequence\n",
            "    auto max_subarray_sum_with_seed = [&](uint32_t seed) -> long long {\n",
            "        long long max_sum = LLONG_MIN;\n",
            "        long long current = 0;\n",
            "        uint32_t value = seed;\n",
            "        unsigned long long range = (unsigned long long)(static_cast<long long>(max_val) - static_cast<long long>(min_val) + 1LL);\n",
            "\n",
            "        for (int i = 0; i < n; ++i) {\n",
            "            uint64_t prod = A * static_cast<uint64_t>(value) + C;\n",
            "            value = static_cast<uint32_t>(prod & 0xFFFFFFFFULL);\n",
            "            long long rnd = static_cast<long long>(min_val) + static_cast<long long>(value % range);\n",
            "            current = rnd > current + rnd ? rnd : current + rnd;\n",
            "            if (current > max_sum) max_sum = current;\n",
            "        }\n",
            "        return max_sum;\n",
            "    };\n",
            "\n",
            "    auto start = std::chrono::high_resolution_clock::now();\n",
            "\n",
            "    long long total_sum = 0;\n",
            "    uint32_t seed = initial_seed;\n",
            "    for (int t = 0; t < 20; ++t) {\n",
            "        uint64_t prod = A * static_cast<uint64_t>(seed) + C;\n",
            "        seed = static_cast<uint32_t>(prod & 0xFFFFFFFFULL);\n",
            "        total_sum += max_subarray_sum_with_seed(seed);\n",
            "    }\n",
            "\n",
            "    auto end = std::chrono::high_resolution_clock::now();\n",
            "    double seconds = std::chrono::duration<double>(end - start).count();\n",
            "\n",
            "    std::cout.setf(std::ios::fixed);\n",
            "    std::cout << std::setprecision(6);\n",
            "    std::cout << \"Total Maximum Subarray Sum (20 runs): \" << total_sum << \"\\n\";\n",
            "    std::cout << \"Execution Time: \" << seconds << \" seconds\" << \"\\n\";\n",
            "\n",
            "    return 0;\n",
            "}"
          ]
        }
      ]
    },
    {
      "cell_type": "code",
      "source": [
        "def stream_gpt(python):\n",
        "  stream = openai.chat.completions.create(model=MODEL_GPT, messages=message_for(python), stream=True)\n",
        "  result = \"\"\n",
        "  for chunk in stream:\n",
        "    content = chunk.choices[0].delta.content or \"\"\n",
        "    result += content\n",
        "    yield result"
      ],
      "metadata": {
        "id": "EtJlcdlyZ6Hi"
      },
      "execution_count": 10,
      "outputs": []
    },
    {
      "cell_type": "code",
      "source": [
        "with gr.Blocks() as ui:\n",
        "  gr.Markdown(\"Your code generator from python to c++\")\n",
        "  with gr.Row():\n",
        "    python = gr.Textbox(label=\"Python input:\", value=pi, lines=10)\n",
        "    cpp = gr.Textbox(label=\"CPP output:\", lines=10)\n",
        "  with gr.Row():\n",
        "    convert = gr.Button(\"Convert\")\n",
        "  convert.click(fn=stream_gpt, inputs=[python], outputs=[cpp])\n",
        "ui.launch()"
      ],
      "metadata": {
        "id": "tuGRAWd8YD69"
      },
      "execution_count": null,
      "outputs": []
    },
    {
      "cell_type": "code",
      "source": [
        "OLLAMA_BASE_URL = \"https://charmlessly-unbenumbed-matthew.ngrok-free.dev\"\n",
        "ollama = OpenAI(base_url=f\"{OLLAMA_BASE_URL}/v1\", api_key=\"ollama\")"
      ],
      "metadata": {
        "id": "EOzPLXdWZfop"
      },
      "execution_count": 11,
      "outputs": []
    },
    {
      "cell_type": "code",
      "source": [
        "def stream_ollama(python):\n",
        "  stream = ollama.chat.completions.create(model=\"llama3.2:latest\", messages=message_for(python), stream=True)\n",
        "  result = \"\"\n",
        "  for chunk in stream:\n",
        "    content = chunk.choices[0].delta.content or \"\"\n",
        "    result += content\n",
        "    yield result\n"
      ],
      "metadata": {
        "id": "B4vQTIvFb-SO"
      },
      "execution_count": 12,
      "outputs": []
    },
    {
      "cell_type": "code",
      "source": [
        "def generate(python, model):\n",
        "  if model == \"GPT\":\n",
        "    result = stream_gpt(python)\n",
        "  elif model == \"OLLAMA\":\n",
        "    result = stream_ollama(python)\n",
        "  for streamed_so_far in result:\n",
        "    yield streamed_so_far"
      ],
      "metadata": {
        "id": "u2V5XIMWhEGp"
      },
      "execution_count": 13,
      "outputs": []
    },
    {
      "cell_type": "code",
      "source": [
        "with gr.Blocks() as ui:\n",
        "  gr.Markdown(\"Your code generator from python to c++\")\n",
        "  with gr.Row():\n",
        "    python = gr.Textbox(label=\"Python input:\", value=pi, lines=10)\n",
        "    cpp = gr.Textbox(label=\"CPP output:\", lines=10)\n",
        "  with gr.Row():\n",
        "    model = gr.Dropdown(label=\"Model\", choices=[\"GPT\", \"OLLAMA\"], value=\"GPT\")\n",
        "    convert = gr.Button(\"Convert\")\n",
        "  convert.click(fn=generate, inputs=[python, model], outputs=[cpp])\n",
        "ui.launch()"
      ],
      "metadata": {
        "id": "wz6L6RlUdEKQ"
      },
      "execution_count": null,
      "outputs": []
    },
    {
      "cell_type": "code",
      "source": [
        "from huggingface_hub import login\n",
        "from google.colab import userdata"
      ],
      "metadata": {
        "id": "T_KqzTzxhlGo"
      },
      "execution_count": 14,
      "outputs": []
    },
    {
      "cell_type": "code",
      "source": [
        "hf_token = userdata.get('HF_TOKEN')\n",
        "login(token=hf_token, add_to_git_credential=True)"
      ],
      "metadata": {
        "id": "PBGrKRchMLu7"
      },
      "execution_count": 15,
      "outputs": []
    },
    {
      "cell_type": "code",
      "source": [
        "from transformers import AutoTokenizer, AutoModelForCausalLM\n",
        "\n",
        "tokenizer = AutoTokenizer.from_pretrained(\"Phind/Phind-CodeLlama-34B-v2\")\n",
        "model = AutoModelForCausalLM.from_pretrained(\"Phind/Phind-CodeLlama-34B-v2\")"
      ],
      "metadata": {
        "colab": {
          "base_uri": "https://localhost:8080/",
          "height": 257
        },
        "id": "NmW67eHoNfxI",
        "outputId": "0d3fd0f7-e926-431c-bde0-6275e0cfae77"
      },
      "execution_count": 1,
      "outputs": [
        {
          "output_type": "error",
          "ename": "KeyboardInterrupt",
          "evalue": "",
          "traceback": [
            "\u001b[0;31m---------------------------------------------------------------------------\u001b[0m",
            "\u001b[0;31mKeyboardInterrupt\u001b[0m                         Traceback (most recent call last)",
            "\u001b[0;32m/tmp/ipython-input-3631153602.py\u001b[0m in \u001b[0;36m<cell line: 0>\u001b[0;34m()\u001b[0m\n\u001b[0;32m----> 1\u001b[0;31m \u001b[0;32mfrom\u001b[0m \u001b[0mtransformers\u001b[0m \u001b[0;32mimport\u001b[0m \u001b[0mAutoTokenizer\u001b[0m\u001b[0;34m,\u001b[0m \u001b[0mAutoModelForCausalLM\u001b[0m\u001b[0;34m\u001b[0m\u001b[0;34m\u001b[0m\u001b[0m\n\u001b[0m\u001b[1;32m      2\u001b[0m \u001b[0;34m\u001b[0m\u001b[0m\n\u001b[1;32m      3\u001b[0m \u001b[0mtokenizer\u001b[0m \u001b[0;34m=\u001b[0m \u001b[0mAutoTokenizer\u001b[0m\u001b[0;34m.\u001b[0m\u001b[0mfrom_pretrained\u001b[0m\u001b[0;34m(\u001b[0m\u001b[0;34m\"Phind/Phind-CodeLlama-34B-v2\"\u001b[0m\u001b[0;34m)\u001b[0m\u001b[0;34m\u001b[0m\u001b[0;34m\u001b[0m\u001b[0m\n\u001b[1;32m      4\u001b[0m \u001b[0mmodel\u001b[0m \u001b[0;34m=\u001b[0m \u001b[0mAutoModelForCausalLM\u001b[0m\u001b[0;34m.\u001b[0m\u001b[0mfrom_pretrained\u001b[0m\u001b[0;34m(\u001b[0m\u001b[0;34m\"Phind/Phind-CodeLlama-34B-v2\"\u001b[0m\u001b[0;34m)\u001b[0m\u001b[0;34m\u001b[0m\u001b[0;34m\u001b[0m\u001b[0m\n",
            "\u001b[0;32m/usr/local/lib/python3.12/dist-packages/transformers/__init__.py\u001b[0m in \u001b[0;36m<module>\u001b[0;34m\u001b[0m\n\u001b[1;32m     25\u001b[0m \u001b[0;34m\u001b[0m\u001b[0m\n\u001b[1;32m     26\u001b[0m \u001b[0;31m# Check the dependencies satisfy the minimal versions required.\u001b[0m\u001b[0;34m\u001b[0m\u001b[0;34m\u001b[0m\u001b[0m\n\u001b[0;32m---> 27\u001b[0;31m \u001b[0;32mfrom\u001b[0m \u001b[0;34m.\u001b[0m \u001b[0;32mimport\u001b[0m \u001b[0mdependency_versions_check\u001b[0m\u001b[0;34m\u001b[0m\u001b[0;34m\u001b[0m\u001b[0m\n\u001b[0m\u001b[1;32m     28\u001b[0m from .utils import (\n\u001b[1;32m     29\u001b[0m     \u001b[0mOptionalDependencyNotAvailable\u001b[0m\u001b[0;34m,\u001b[0m\u001b[0;34m\u001b[0m\u001b[0;34m\u001b[0m\u001b[0m\n",
            "\u001b[0;32m/usr/local/lib/python3.12/dist-packages/transformers/dependency_versions_check.py\u001b[0m in \u001b[0;36m<module>\u001b[0;34m\u001b[0m\n\u001b[1;32m     14\u001b[0m \u001b[0;34m\u001b[0m\u001b[0m\n\u001b[1;32m     15\u001b[0m \u001b[0;32mfrom\u001b[0m \u001b[0;34m.\u001b[0m\u001b[0mdependency_versions_table\u001b[0m \u001b[0;32mimport\u001b[0m \u001b[0mdeps\u001b[0m\u001b[0;34m\u001b[0m\u001b[0;34m\u001b[0m\u001b[0m\n\u001b[0;32m---> 16\u001b[0;31m \u001b[0;32mfrom\u001b[0m \u001b[0;34m.\u001b[0m\u001b[0mutils\u001b[0m\u001b[0;34m.\u001b[0m\u001b[0mversions\u001b[0m \u001b[0;32mimport\u001b[0m \u001b[0mrequire_version\u001b[0m\u001b[0;34m,\u001b[0m \u001b[0mrequire_version_core\u001b[0m\u001b[0;34m\u001b[0m\u001b[0;34m\u001b[0m\u001b[0m\n\u001b[0m\u001b[1;32m     17\u001b[0m \u001b[0;34m\u001b[0m\u001b[0m\n\u001b[1;32m     18\u001b[0m \u001b[0;34m\u001b[0m\u001b[0m\n",
            "\u001b[0;32m/usr/local/lib/python3.12/dist-packages/transformers/utils/__init__.py\u001b[0m in \u001b[0;36m<module>\u001b[0;34m\u001b[0m\n\u001b[1;32m     22\u001b[0m \u001b[0;34m\u001b[0m\u001b[0m\n\u001b[1;32m     23\u001b[0m \u001b[0;32mfrom\u001b[0m \u001b[0;34m.\u001b[0m\u001b[0;34m.\u001b[0m \u001b[0;32mimport\u001b[0m \u001b[0m__version__\u001b[0m\u001b[0;34m\u001b[0m\u001b[0;34m\u001b[0m\u001b[0m\n\u001b[0;32m---> 24\u001b[0;31m from .auto_docstring import (\n\u001b[0m\u001b[1;32m     25\u001b[0m     \u001b[0mClassAttrs\u001b[0m\u001b[0;34m,\u001b[0m\u001b[0;34m\u001b[0m\u001b[0;34m\u001b[0m\u001b[0m\n\u001b[1;32m     26\u001b[0m     \u001b[0mClassDocstring\u001b[0m\u001b[0;34m,\u001b[0m\u001b[0;34m\u001b[0m\u001b[0;34m\u001b[0m\u001b[0m\n",
            "\u001b[0;32m/usr/local/lib/python3.12/dist-packages/transformers/utils/auto_docstring.py\u001b[0m in \u001b[0;36m<module>\u001b[0;34m\u001b[0m\n\u001b[1;32m     28\u001b[0m     \u001b[0m_prepare_output_docstrings\u001b[0m\u001b[0;34m,\u001b[0m\u001b[0;34m\u001b[0m\u001b[0;34m\u001b[0m\u001b[0m\n\u001b[1;32m     29\u001b[0m )\n\u001b[0;32m---> 30\u001b[0;31m \u001b[0;32mfrom\u001b[0m \u001b[0;34m.\u001b[0m\u001b[0mgeneric\u001b[0m \u001b[0;32mimport\u001b[0m \u001b[0mModelOutput\u001b[0m\u001b[0;34m\u001b[0m\u001b[0;34m\u001b[0m\u001b[0m\n\u001b[0m\u001b[1;32m     31\u001b[0m \u001b[0;34m\u001b[0m\u001b[0m\n\u001b[1;32m     32\u001b[0m \u001b[0;34m\u001b[0m\u001b[0m\n",
            "\u001b[0;32m/usr/local/lib/python3.12/dist-packages/transformers/utils/generic.py\u001b[0m in \u001b[0;36m<module>\u001b[0;34m\u001b[0m\n\u001b[1;32m     49\u001b[0m \u001b[0;32mif\u001b[0m \u001b[0mis_torch_available\u001b[0m\u001b[0;34m(\u001b[0m\u001b[0;34m)\u001b[0m\u001b[0;34m:\u001b[0m\u001b[0;34m\u001b[0m\u001b[0;34m\u001b[0m\u001b[0m\n\u001b[1;32m     50\u001b[0m     \u001b[0;31m# required for @can_return_tuple decorator to work with torchdynamo\u001b[0m\u001b[0;34m\u001b[0m\u001b[0;34m\u001b[0m\u001b[0m\n\u001b[0;32m---> 51\u001b[0;31m     \u001b[0;32mimport\u001b[0m \u001b[0mtorch\u001b[0m\u001b[0;34m\u001b[0m\u001b[0;34m\u001b[0m\u001b[0m\n\u001b[0m\u001b[1;32m     52\u001b[0m \u001b[0;34m\u001b[0m\u001b[0m\n\u001b[1;32m     53\u001b[0m     \u001b[0;32mfrom\u001b[0m \u001b[0;34m.\u001b[0m\u001b[0;34m.\u001b[0m\u001b[0mmodel_debugging_utils\u001b[0m \u001b[0;32mimport\u001b[0m \u001b[0mmodel_addition_debugger_context\u001b[0m\u001b[0;34m\u001b[0m\u001b[0;34m\u001b[0m\u001b[0m\n",
            "\u001b[0;32m/usr/local/lib/python3.12/dist-packages/torch/__init__.py\u001b[0m in \u001b[0;36m<module>\u001b[0;34m\u001b[0m\n\u001b[1;32m    414\u001b[0m     \u001b[0;32mif\u001b[0m \u001b[0mUSE_GLOBAL_DEPS\u001b[0m\u001b[0;34m:\u001b[0m\u001b[0;34m\u001b[0m\u001b[0;34m\u001b[0m\u001b[0m\n\u001b[1;32m    415\u001b[0m         \u001b[0m_load_global_deps\u001b[0m\u001b[0;34m(\u001b[0m\u001b[0;34m)\u001b[0m\u001b[0;34m\u001b[0m\u001b[0;34m\u001b[0m\u001b[0m\n\u001b[0;32m--> 416\u001b[0;31m     \u001b[0;32mfrom\u001b[0m \u001b[0mtorch\u001b[0m\u001b[0;34m.\u001b[0m\u001b[0m_C\u001b[0m \u001b[0;32mimport\u001b[0m \u001b[0;34m*\u001b[0m  \u001b[0;31m# noqa: F403\u001b[0m\u001b[0;34m\u001b[0m\u001b[0;34m\u001b[0m\u001b[0m\n\u001b[0m\u001b[1;32m    417\u001b[0m \u001b[0;34m\u001b[0m\u001b[0m\n\u001b[1;32m    418\u001b[0m \u001b[0;34m\u001b[0m\u001b[0m\n",
            "\u001b[0;32m/usr/lib/python3.12/importlib/_bootstrap.py\u001b[0m in \u001b[0;36m_lock_unlock_module\u001b[0;34m(name)\u001b[0m\n",
            "\u001b[0;31mKeyboardInterrupt\u001b[0m: "
          ]
        }
      ]
    },
    {
      "cell_type": "code",
      "metadata": {
        "colab": {
          "base_uri": "https://localhost:8080/"
        },
        "collapsed": true,
        "id": "864a8bdb",
        "outputId": "29a93ea0-9a87-4ca7-af0d-3220087b8cb4"
      },
      "source": [],
      "execution_count": 4,
      "outputs": [
        {
          "output_type": "stream",
          "name": "stdout",
          "text": [
            "2.1G\t/usr/local/lib/python3.12/dist-packages/libcugraph/lib64/libcugraph.so\n",
            "1.3G\t/usr/local/lib/python3.12/dist-packages/libcuvs/lib64/libcuvs.so\n",
            "1.1G\t/usr/local/lib/python3.12/dist-packages/tensorflow/libtensorflow_cc.so.2\n",
            "930M\t/usr/local/lib/python3.12/dist-packages/torch/lib/libtorch_cuda.so\n",
            "839M\t/usr/local/lib/python3.12/dist-packages/libcudf/lib64/libcudf.so\n",
            "685M\t/usr/local/cuda-12.5/targets/x86_64-linux/lib/libcublasLt_static.a\n",
            "640M\t/usr/lib/x86_64-linux-gnu/libmkl_core.a\n",
            "634M\t/root/.julia/artifacts/07a1d6a5d855689372d59e5bf865f5a63cb9e14e/lib/libReactantExtra.so\n",
            "523M\t/usr/local/lib/python3.12/dist-packages/nvidia/cudnn/lib/libcudnn_engines_precompiled.so.9\n",
            "469M\t/usr/local/lib/python3.12/dist-packages/nvidia/cublas/lib/libcublasLt.so.12\n",
            "432M\t/usr/local/lib/python3.12/dist-packages/nvidia/cusparselt/lib/libcusparseLt.so.0\n",
            "431M\t/usr/lib/x86_64-linux-gnu/libcudnn_engines_precompiled.so.9.2.1\n",
            "427M\t/usr/local/cuda-12.5/targets/x86_64-linux/lib/libcublasLt.so.12.5.3.2\n",
            "411M\t/usr/local/lib/python3.12/dist-packages/torch/lib/libtorch_cpu.so\n",
            "410M\t/usr/local/lib/python3.12/dist-packages/nvidia/nccl/lib/libnccl.so.2\n",
            "371M\t/usr/local/lib/python3.12/dist-packages/jax_plugins/xla_cuda12/xla_cuda_plugin.so\n",
            "337M\t/usr/local/lib/python3.12/dist-packages/triton/_C/libtriton.so\n",
            "313M\t/usr/local/cuda-12.5/targets/x86_64-linux/lib/libcusparse_static.a\n",
            "301M\t/usr/local/lib/python3.12/dist-packages/jaxlib/libjax_common.so\n",
            "300M\t/usr/local/cuda-12.5/targets/x86_64-linux/lib/libcufft_static.a\n"
          ]
        }
      ]
    },
    {
      "cell_type": "code",
      "source": [
        "!rm -rf ~/.cache/huggingface"
      ],
      "metadata": {
        "id": "RBWNhU1OzXj4"
      },
      "execution_count": 2,
      "outputs": []
    },
    {
      "cell_type": "code",
      "source": [
        "messages = tokenizer.apply_chat_template(message_for(pi), tokenize=False, return_tensors=\"pt\", add_generation_prompt=True).to(\"cuda\")\n",
        "stream = model.generate(**messages, stream=True, details=True, max_new_tokens=400)\n",
        "result = \"\"\n",
        "for r in stream:\n",
        "  result += r.token.text\n",
        "  yield result"
      ],
      "metadata": {
        "id": "a7l9-bZrNokJ"
      },
      "execution_count": null,
      "outputs": []
    }
  ]
}