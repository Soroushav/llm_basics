{
  "nbformat": 4,
  "nbformat_minor": 0,
  "metadata": {
    "colab": {
      "provenance": [],
      "authorship_tag": "ABX9TyNbZAXBM3U2utg/Pky18J0f",
      "include_colab_link": true
    },
    "kernelspec": {
      "name": "python3",
      "display_name": "Python 3"
    },
    "language_info": {
      "name": "python"
    }
  },
  "cells": [
    {
      "cell_type": "markdown",
      "metadata": {
        "id": "view-in-github",
        "colab_type": "text"
      },
      "source": [
        "<a href=\"https://colab.research.google.com/github/Soroushav/pipelines_llm/blob/main/pipelines.ipynb\" target=\"_parent\"><img src=\"https://colab.research.google.com/assets/colab-badge.svg\" alt=\"Open In Colab\"/></a>"
      ]
    },
    {
      "cell_type": "code",
      "execution_count": null,
      "metadata": {
        "id": "KlSGxTDxy19r"
      },
      "outputs": [],
      "source": [
        "!pip install -q transformers datasets diffusers"
      ]
    },
    {
      "cell_type": "code",
      "source": [
        "import torch\n",
        "from transformers import pipeline\n",
        "from diffusers import DiffusionPipeline\n",
        "from datasets import load_dataset\n",
        "import soundfile as sf\n",
        "from IPython.display import Audio"
      ],
      "metadata": {
        "id": "KYPop-y6z2x4"
      },
      "execution_count": null,
      "outputs": []
    },
    {
      "cell_type": "code",
      "source": [
        "# sentiment analysis\n",
        "classifier = pipeline(\"sentiment-analysis\")\n",
        "result = classifier(\"Im super excited to be part of this journey but i dont feel confident but ready to go and take this to an end also i dont feel ok\")\n",
        "print(result)"
      ],
      "metadata": {
        "id": "k1YZXHNg0jl9"
      },
      "execution_count": null,
      "outputs": []
    },
    {
      "cell_type": "code",
      "source": [
        "from google.colab import drive\n",
        "drive.mount('/content/drive')"
      ],
      "metadata": {
        "id": "aqe_oKIR3IyN"
      },
      "execution_count": null,
      "outputs": []
    },
    {
      "cell_type": "code",
      "source": [
        "# text generation\n",
        "generator = pipeline(model=\"openai-community/gpt2\")\n",
        "outputs = generator(\"My tart needs some\", num_return_sequences=4, return_full_text=False)"
      ],
      "metadata": {
        "id": "whZQDhLl33Xy"
      },
      "execution_count": null,
      "outputs": []
    },
    {
      "cell_type": "code",
      "source": [
        "outputs"
      ],
      "metadata": {
        "collapsed": true,
        "id": "hqJkhYZ675N7"
      },
      "execution_count": null,
      "outputs": []
    },
    {
      "cell_type": "code",
      "source": [
        "summarizer = pipeline(\"summarization\", model=\"google-t5/t5-small\", tokenizer=\"google-t5/t5-small\")\n",
        "output = summarizer(\"\"\"\n",
        "    \"Hugging Face is an open-source company and platform that has become a central hub \"\n",
        "    \"for natural language processing (NLP) and machine learning models. It provides an \"\n",
        "    \"extensive library called Transformers, which allows developers to easily use \"\n",
        "    \"state-of-the-art models for tasks like text classification, translation, question \"\n",
        "    \"answering, summarization, and more. With just a few lines of code, users can load \"\n",
        "    \"pre-trained models and fine-tune them on their own data, making advanced AI \"\n",
        "    \"capabilities more accessible to everyone.\"\n",
        "\"\"\", min_length=5, max_length=20)\n",
        "print(output)"
      ],
      "metadata": {
        "id": "-daO9cZU86Em"
      },
      "execution_count": null,
      "outputs": []
    },
    {
      "cell_type": "code",
      "source": [
        "text_classification = pipeline(\"zero-shot-classification\", model=\"facebook/bart-large-mnli\")\n",
        "output = text_classification(\"Hugging Face is an open-source company and platform that has become a central hub\", candidate_labels=[\"technology\", \"sports\", \"news\", \"economy\"])\n",
        "print(output)"
      ],
      "metadata": {
        "id": "8FllwbrI-zgl"
      },
      "execution_count": null,
      "outputs": []
    },
    {
      "cell_type": "code",
      "source": [
        "question_answer = pipeline(\"question-answering\", model=\"deepset/roberta-base-squad2\")\n",
        "output = question_answer(question=\"Who was Jim Henson?\",context=\"Jim Henson was a nice puppet\")\n",
        "print(output)"
      ],
      "metadata": {
        "id": "-j7EMyJeC29J"
      },
      "execution_count": null,
      "outputs": []
    },
    {
      "cell_type": "code",
      "source": [
        "translator = pipeline(\"translation\", model=\"facebook/nllb-200-distilled-600M\")\n",
        "output = translator(\"My name is Soroush, nice to meet you\",src_lang=\"eng_Latn\",tgt_lang=\"ita_Latn\")\n",
        "print(output)"
      ],
      "metadata": {
        "id": "4IjnCJTdFJ4Y"
      },
      "execution_count": null,
      "outputs": []
    },
    {
      "cell_type": "code",
      "source": [
        "image_gen = DiffusionPipeline.from_pretrained(\n",
        "    \"stabilityai/stable-diffusion-2\",\n",
        "    torch_dtype=torch.float16,\n",
        "    use_safesensors=True,\n",
        "    variant=\"fp16\",\n",
        ")\n",
        "text = \"A class of birds learning about data science, in a surreal style of salvador Dali\"\n",
        "image = image_gen(prompt=text).images[0]\n",
        "image"
      ],
      "metadata": {
        "id": "7N4oDT42Ixs_"
      },
      "execution_count": null,
      "outputs": []
    },
    {
      "cell_type": "code",
      "source": [],
      "metadata": {
        "id": "THM9ET9zK3fr"
      },
      "execution_count": null,
      "outputs": []
    }
  ]
}